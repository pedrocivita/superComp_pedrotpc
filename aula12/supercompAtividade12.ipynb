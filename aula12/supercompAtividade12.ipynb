{
  "nbformat": 4,
  "nbformat_minor": 0,
  "metadata": {
    "colab": {
      "provenance": [],
      "gpuType": "T4",
      "authorship_tag": "ABX9TyMg+Dxe3zvQQOKcigkcyLdg",
      "include_colab_link": true
    },
    "kernelspec": {
      "name": "python3",
      "display_name": "Python 3"
    },
    "language_info": {
      "name": "python"
    },
    "accelerator": "GPU"
  },
  "cells": [
    {
      "cell_type": "markdown",
      "metadata": {
        "id": "view-in-github",
        "colab_type": "text"
      },
      "source": [
        "<a href=\"https://colab.research.google.com/github/pedrocivita/superComp_pedrotpc/blob/main/aula12/supercompAtividade12.ipynb\" target=\"_parent\"><img src=\"https://colab.research.google.com/assets/colab-badge.svg\" alt=\"Open In Colab\"/></a>"
      ]
    },
    {
      "cell_type": "markdown",
      "source": [
        "# **Atividade 12 - Supercomputação - Pedro Civita**"
      ],
      "metadata": {
        "id": "C6FwRgkZ7Ug1"
      }
    },
    {
      "cell_type": "code",
      "execution_count": 1,
      "metadata": {
        "colab": {
          "base_uri": "https://localhost:8080/"
        },
        "id": "F0xHs7kbyXIb",
        "outputId": "92d50546-16b5-41a0-ffae-8a4ef65db872"
      },
      "outputs": [
        {
          "output_type": "stream",
          "name": "stdout",
          "text": [
            "Fri Sep 20 11:20:27 2024       \n",
            "+---------------------------------------------------------------------------------------+\n",
            "| NVIDIA-SMI 535.104.05             Driver Version: 535.104.05   CUDA Version: 12.2     |\n",
            "|-----------------------------------------+----------------------+----------------------+\n",
            "| GPU  Name                 Persistence-M | Bus-Id        Disp.A | Volatile Uncorr. ECC |\n",
            "| Fan  Temp   Perf          Pwr:Usage/Cap |         Memory-Usage | GPU-Util  Compute M. |\n",
            "|                                         |                      |               MIG M. |\n",
            "|=========================================+======================+======================|\n",
            "|   0  Tesla T4                       Off | 00000000:00:04.0 Off |                    0 |\n",
            "| N/A   57C    P8              11W /  70W |      0MiB / 15360MiB |      0%      Default |\n",
            "|                                         |                      |                  N/A |\n",
            "+-----------------------------------------+----------------------+----------------------+\n",
            "                                                                                         \n",
            "+---------------------------------------------------------------------------------------+\n",
            "| Processes:                                                                            |\n",
            "|  GPU   GI   CI        PID   Type   Process name                            GPU Memory |\n",
            "|        ID   ID                                                             Usage      |\n",
            "|=======================================================================================|\n",
            "|  No running processes found                                                           |\n",
            "+---------------------------------------------------------------------------------------+\n"
          ]
        }
      ],
      "source": [
        "# No Colab, configure a GPU (T4 GPU, etc.) acessando \"Runtime\" -> \"Change Runtime Type\" -> GPU.\n",
        "!nvidia-smi  # Verifique se a GPU está ativada"
      ]
    },
    {
      "cell_type": "markdown",
      "source": [],
      "metadata": {
        "id": "oGn_q_3W7TiV"
      }
    },
    {
      "cell_type": "markdown",
      "source": [
        "## **Código - Exercicio 1**"
      ],
      "metadata": {
        "id": "TyDvEOoU3zNY"
      }
    },
    {
      "cell_type": "code",
      "source": [
        "%%writefile saxpy.cu\n",
        "\n",
        "#include <thrust/device_vector.h>  // Inclui a biblioteca Thrust para vetores na GPU\n",
        "#include <thrust/transform.h>      // Inclui a função para transformações ponto a ponto\n",
        "#include <thrust/random.h>         // Inclui a biblioteca para gerar números aleatórios\n",
        "#include <iostream>                // Biblioteca padrão para entrada e saída de dados\n",
        "#include <chrono>                  // Biblioteca para medir tempo de execução\n",
        "#include <cuda_runtime.h>          // Biblioteca para informações de memória da GPU\n",
        "\n",
        "// Functor para calcular Saxpy (a * x + y)\n",
        "struct saxpy\n",
        "{\n",
        "    int a;\n",
        "\n",
        "    // Construtor para inicializar a constante 'a'\n",
        "    saxpy(int a_) : a(a_) {};\n",
        "\n",
        "    // Função que será chamada pela Thrust (executada na GPU ou CPU)\n",
        "    __host__ __device__\n",
        "    double operator()(const double& x, const double& y) const {\n",
        "        return a * x + y;  // Cálculo Saxpy\n",
        "    }\n",
        "};\n",
        "\n",
        "// Função para exibir o uso da memória da GPU\n",
        "void mostrarUsoMemoriaGPU() {\n",
        "    size_t free_mem, total_mem;\n",
        "    cudaMemGetInfo(&free_mem, &total_mem);\n",
        "    std::cout << \"Memória total da GPU: \" << total_mem / (1024 * 1024) << \" MB\" << std::endl;\n",
        "    std::cout << \"Memória livre da GPU: \" << free_mem / (1024 * 1024) << \" MB\" << std::endl;\n",
        "    std::cout << \"Memória usada pela GPU: \" << (total_mem - free_mem) / (1024 * 1024) << \" MB\" << std::endl;\n",
        "}\n",
        "\n",
        "int main() {\n",
        "    const int N = 10;  // Tamanho dos vetores\n",
        "\n",
        "    // Vetores na GPU\n",
        "    thrust::device_vector<double> x(N);\n",
        "    thrust::device_vector<double> y(N);\n",
        "    thrust::device_vector<double> z(N);  // Vetor de saída\n",
        "\n",
        "    // Preenche os vetores x e y com valores aleatórios\n",
        "    thrust::default_random_engine rng;\n",
        "    thrust::uniform_real_distribution<double> dist(0, 100);\n",
        "\n",
        "    for (int i = 0; i < N; i++) {\n",
        "        x[i] = dist(rng);  // Preenche x com valores aleatórios\n",
        "        y[i] = dist(rng);  // Preenche y com valores aleatórios\n",
        "    }\n",
        "\n",
        "    // Escolha o valor da constante 'a'\n",
        "    int a = 100;\n",
        "\n",
        "    // Mostra a memória da GPU antes da cópia\n",
        "    std::cout << \"Uso de memória da GPU antes da operação Saxpy:\" << std::endl;\n",
        "    mostrarUsoMemoriaGPU();\n",
        "\n",
        "    // Medir o tempo de execução da operação Saxpy\n",
        "    auto start = std::chrono::high_resolution_clock::now();\n",
        "\n",
        "    // Aplica Saxpy (a * x + y) e armazena o resultado em 'z'\n",
        "    thrust::transform(x.begin(), x.end(), y.begin(), z.begin(), saxpy(a));\n",
        "\n",
        "    auto end = std::chrono::high_resolution_clock::now();\n",
        "    std::chrono::duration<double> duration = end - start;\n",
        "\n",
        "    // Mostra o tempo de execução da operação\n",
        "    std::cout << \"Tempo de execução da operação Saxpy: \" << duration.count() << \" segundos\" << std::endl;\n",
        "\n",
        "    // Exibe os vetores\n",
        "    std::cout << \"Vetor X: \";\n",
        "    for (int i = 0; i < N; i++) {\n",
        "        std::cout << x[i] << \" \";\n",
        "    }\n",
        "    std::cout << std::endl;\n",
        "\n",
        "    std::cout << \"Vetor Y: \";\n",
        "    for (int i = 0; i < N; i++) {\n",
        "        std::cout << y[i] << \" \";\n",
        "    }\n",
        "    std::cout << std::endl;\n",
        "\n",
        "    std::cout << \"Resultado (Z = \" << a << \" * X + Y): \";\n",
        "    for (int i = 0; i < N; i++) {\n",
        "        std::cout << z[i] << \" \";\n",
        "    }\n",
        "    std::cout << std::endl;\n",
        "\n",
        "    // Mostra a memória da GPU após a cópia\n",
        "    std::cout << \"Uso de memória da GPU após a operação Saxpy:\" << std::endl;\n",
        "    mostrarUsoMemoriaGPU();\n",
        "\n",
        "    return 0;\n",
        "}\n"
      ],
      "metadata": {
        "colab": {
          "base_uri": "https://localhost:8080/"
        },
        "id": "EuyrNRgv31KW",
        "outputId": "8f54e98a-8a04-4a3f-ef71-314ad7fe7698"
      },
      "execution_count": 14,
      "outputs": [
        {
          "output_type": "stream",
          "name": "stdout",
          "text": [
            "Overwriting saxpy.cu\n"
          ]
        }
      ]
    },
    {
      "cell_type": "code",
      "source": [
        "!nvcc -arch=sm_75 -std=c++14 saxpy.cu -o saxpy"
      ],
      "metadata": {
        "id": "lwi0T3u732Jw"
      },
      "execution_count": 15,
      "outputs": []
    },
    {
      "cell_type": "code",
      "source": [
        "!./saxpy"
      ],
      "metadata": {
        "colab": {
          "base_uri": "https://localhost:8080/"
        },
        "id": "X7ld-Qab38yB",
        "outputId": "a70950d0-2000-4f34-aa4f-41528e4b72d8"
      },
      "execution_count": 16,
      "outputs": [
        {
          "output_type": "stream",
          "name": "stdout",
          "text": [
            "Uso de memória da GPU antes da operação Saxpy:\n",
            "Memória total da GPU: 15102 MB\n",
            "Memória livre da GPU: 14995 MB\n",
            "Memória usada pela GPU: 107 MB\n",
            "Tempo de execução da operação Saxpy: 3.5688e-05 segundos\n",
            "Vetor X: 0.00224775 60.1353 96.7956 51.4976 26.2906 8.95478 58.223 59.1919 87.6634 72.6212 \n",
            "Vetor Y: 8.50324 89.1611 18.969 39.8008 74.3512 56.039 80.9567 51.1713 99.5085 96.6611 \n",
            "Resultado (Z = 100 * X + Y): 8.72802 6102.69 9698.53 5189.56 2703.41 951.517 5903.25 5970.36 8865.85 7358.78 \n",
            "Uso de memória da GPU após a operação Saxpy:\n",
            "Memória total da GPU: 15102 MB\n",
            "Memória livre da GPU: 14995 MB\n",
            "Memória usada pela GPU: 107 MB\n"
          ]
        }
      ]
    },
    {
      "cell_type": "markdown",
      "source": [
        "## **Código - Exercicio 2**"
      ],
      "metadata": {
        "id": "wnoqtlFhNnKk"
      }
    },
    {
      "cell_type": "code",
      "source": [
        "%%writefile magnitude_gpu.cu\n",
        "\n",
        "#include <thrust/device_vector.h>  // Inclui a biblioteca Thrust para vetores na GPU\n",
        "#include <thrust/transform_reduce.h>  // Inclui a função transform_reduce\n",
        "#include <thrust/functional.h>  // Inclui operações matemáticas como thrust::plus\n",
        "#include <cmath>  // Inclui a função sqrt para a raiz quadrada\n",
        "#include <iostream>\n",
        "#include <chrono>  // Biblioteca para medir o tempo de execução\n",
        "#include <cuda_runtime.h>  // Biblioteca para verificar o uso da GPU\n",
        "#include <random>  // Biblioteca padrão de C++ para geração de números aleatórios\n",
        "\n",
        "// Functor para elevar ao quadrado\n",
        "struct square {\n",
        "    __host__ __device__\n",
        "    float operator()(const float& x) const {\n",
        "        return x * x;  // Elevar ao quadrado\n",
        "    }\n",
        "};\n",
        "\n",
        "// Função que calcula a magnitude de um vetor na GPU\n",
        "float magnitude_gpu(thrust::device_vector<float>& v) {\n",
        "    float sum_of_squares = thrust::transform_reduce(v.begin(), v.end(), square(), 0.0f, thrust::plus<float>());\n",
        "    return std::sqrt(sum_of_squares);  // Raiz quadrada da soma dos quadrados\n",
        "}\n",
        "\n",
        "// Função para verificar o uso de memória da GPU\n",
        "void check_gpu_memory() {\n",
        "    size_t free_byte;\n",
        "    size_t total_byte;\n",
        "    cudaMemGetInfo(&free_byte, &total_byte);\n",
        "\n",
        "    float free_mb = (float)free_byte / (1024.0f * 1024.0f);\n",
        "    float total_mb = (float)total_byte / (1024.0f * 1024.0f);\n",
        "    float used_mb = total_mb - free_mb;\n",
        "\n",
        "    std::cout << \"Memória total da GPU: \" << total_mb << \" MB\" << std::endl;\n",
        "    std::cout << \"Memória livre da GPU: \" << free_mb << \" MB\" << std::endl;\n",
        "    std::cout << \"Memória usada pela GPU: \" << used_mb << \" MB\" << std::endl;\n",
        "}\n",
        "\n",
        "int main() {\n",
        "    const int N = 1000000;  // Tamanho dos vetores\n",
        "\n",
        "    // Vetor de floats na GPU (device)\n",
        "    thrust::device_vector<float> d_v(N);\n",
        "\n",
        "    // Usando a biblioteca padrão de C++ para gerar números aleatórios\n",
        "    std::default_random_engine rng;\n",
        "    std::uniform_real_distribution<float> dist(0, 100);\n",
        "\n",
        "    // Preenchendo o vetor com valores aleatórios\n",
        "    for (int i = 0; i < N; ++i) {\n",
        "        d_v[i] = dist(rng);  // Preenche o vetor com valores aleatórios\n",
        "    }\n",
        "\n",
        "    std::cout << \"=== Antes da execução ===\" << std::endl;\n",
        "    check_gpu_memory();\n",
        "\n",
        "    // Medindo o tempo de execução na GPU\n",
        "    auto start_gpu = std::chrono::high_resolution_clock::now();\n",
        "    float result_gpu = magnitude_gpu(d_v);\n",
        "    auto end_gpu = std::chrono::high_resolution_clock::now();\n",
        "    std::chrono::duration<float> duration_gpu = end_gpu - start_gpu;\n",
        "\n",
        "    // Exibe o resultado da magnitude e o tempo na GPU\n",
        "    std::cout << \"Magnitude calculada na GPU: \" << result_gpu << std::endl;\n",
        "    std::cout << \"Tempo de execução na GPU: \" << duration_gpu.count() << \" segundos\" << std::endl;\n",
        "\n",
        "    std::cout << \"=== Após a execução ===\" << std::endl;\n",
        "    check_gpu_memory();\n",
        "\n",
        "    return 0;\n",
        "}\n"
      ],
      "metadata": {
        "colab": {
          "base_uri": "https://localhost:8080/"
        },
        "id": "7vGnobp_Nmd7",
        "outputId": "b6d9d4a4-0c39-45e9-e9f1-b19673fe9844"
      },
      "execution_count": 26,
      "outputs": [
        {
          "output_type": "stream",
          "name": "stdout",
          "text": [
            "Overwriting magnitude_gpu.cu\n"
          ]
        }
      ]
    },
    {
      "cell_type": "code",
      "source": [
        "%%writefile magnitude_cpu.cpp\n",
        "\n",
        "#include <iostream>\n",
        "#include <vector>\n",
        "#include <cmath>  // Inclui a função sqrt para a raiz quadrada\n",
        "#include <random>\n",
        "#include <chrono>  // Biblioteca para medir o tempo de execução\n",
        "\n",
        "// Função para calcular a magnitude de um vetor na CPU\n",
        "float magnitude_cpu(const std::vector<float>& v) {\n",
        "    float sum_of_squares = 0.0f;\n",
        "    for (float x : v) {\n",
        "        sum_of_squares += x * x;\n",
        "    }\n",
        "    return std::sqrt(sum_of_squares);  // Raiz quadrada da soma dos quadrados\n",
        "}\n",
        "\n",
        "int main() {\n",
        "    const int N = 1000000;  // Tamanho do vetor\n",
        "\n",
        "    // Vetor de floats na CPU\n",
        "    std::vector<float> v(N);\n",
        "\n",
        "    // Preenchendo o vetor com valores aleatórios\n",
        "    std::default_random_engine rng;\n",
        "    std::uniform_real_distribution<float> dist(0, 100);\n",
        "    for (int i = 0; i < N; ++i) {\n",
        "        v[i] = dist(rng);  // Preenche o vetor com valores aleatórios\n",
        "    }\n",
        "\n",
        "    // Medindo o tempo de execução na CPU\n",
        "    auto start_cpu = std::chrono::high_resolution_clock::now();\n",
        "    float result_cpu = magnitude_cpu(v);\n",
        "    auto end_cpu = std::chrono::high_resolution_clock::now();\n",
        "    std::chrono::duration<float> duration_cpu = end_cpu - start_cpu;\n",
        "\n",
        "    // Exibe o resultado da magnitude e o tempo na CPU\n",
        "    std::cout << \"Magnitude calculada na CPU: \" << result_cpu << std::endl;\n",
        "    std::cout << \"Tempo de execução na CPU: \" << duration_cpu.count() << \" segundos\" << std::endl;\n",
        "\n",
        "    return 0;\n",
        "}\n"
      ],
      "metadata": {
        "colab": {
          "base_uri": "https://localhost:8080/"
        },
        "id": "kXLL0sM6PPZ1",
        "outputId": "26f3d44f-52cb-49cd-a99c-c150c9f99475"
      },
      "execution_count": 18,
      "outputs": [
        {
          "output_type": "stream",
          "name": "stdout",
          "text": [
            "Writing magnitude_cpu.cpp\n"
          ]
        }
      ]
    },
    {
      "cell_type": "code",
      "source": [
        "# Compilando e executando o código na GPU\n",
        "!nvcc -arch=sm_75 -std=c++14 magnitude_gpu.cu -o magnitude_gpu"
      ],
      "metadata": {
        "id": "FYrPoGkSPP7-"
      },
      "execution_count": 27,
      "outputs": []
    },
    {
      "cell_type": "code",
      "source": [
        "!./magnitude_gpu"
      ],
      "metadata": {
        "colab": {
          "base_uri": "https://localhost:8080/"
        },
        "id": "girRnQB0PQMN",
        "outputId": "cad5eff3-6b2a-4fca-ac4e-4f3a8a0d23e3"
      },
      "execution_count": 28,
      "outputs": [
        {
          "output_type": "stream",
          "name": "stdout",
          "text": [
            "=== Antes da execução ===\n",
            "Memória total da GPU: 15102.1 MB\n",
            "Memória livre da GPU: 14993.1 MB\n",
            "Memória usada pela GPU: 109 MB\n",
            "Magnitude calculada na GPU: 57730.2\n",
            "Tempo de execução na GPU: 0.000445143 segundos\n",
            "=== Após a execução ===\n",
            "Memória total da GPU: 15102.1 MB\n",
            "Memória livre da GPU: 14993.1 MB\n",
            "Memória usada pela GPU: 109 MB\n"
          ]
        }
      ]
    },
    {
      "cell_type": "code",
      "source": [
        "!g++ -std=c++14 magnitude_cpu.cpp -o magnitude_cpu"
      ],
      "metadata": {
        "id": "RTEEvgKsQZ3Z"
      },
      "execution_count": 24,
      "outputs": []
    },
    {
      "cell_type": "code",
      "source": [
        "!./magnitude_cpu"
      ],
      "metadata": {
        "colab": {
          "base_uri": "https://localhost:8080/"
        },
        "id": "7xPAFIkmQaLe",
        "outputId": "b87a0ebe-5341-418d-d644-4b5b729c78c0"
      },
      "execution_count": 25,
      "outputs": [
        {
          "output_type": "stream",
          "name": "stdout",
          "text": [
            "Magnitude calculada na CPU: 57719.4\n",
            "Tempo de execução na CPU: 0.0109731 segundos\n"
          ]
        }
      ]
    },
    {
      "cell_type": "markdown",
      "source": [
        "## **Exercício 3**"
      ],
      "metadata": {
        "id": "mi2V5b7RSBnG"
      }
    },
    {
      "cell_type": "code",
      "source": [
        "%%writefile variance_fusion.cu\n",
        "\n",
        "#include <thrust/device_vector.h>\n",
        "#include <thrust/reduce.h>\n",
        "#include <thrust/transform_reduce.h>\n",
        "#include <thrust/functional.h>\n",
        "#include <iostream>\n",
        "#include <chrono>\n",
        "#include <cuda_runtime.h>\n",
        "\n",
        "// Functor para a operação de cálculo da variância\n",
        "struct variance_op {\n",
        "    float mean;\n",
        "\n",
        "    variance_op(float mean_) : mean(mean_) {}  // Construtor que armazena a média\n",
        "\n",
        "    __host__ __device__\n",
        "    float operator()(const float& x) const {\n",
        "        float diff = x - mean;  // Diferença em relação à média\n",
        "        return diff * diff;  // Elevar ao quadrado a diferença\n",
        "    }\n",
        "};\n",
        "\n",
        "// Functor para a operação de elevação ao quadrado\n",
        "struct square_diff {\n",
        "    float mean;\n",
        "    square_diff(float mean_) : mean(mean_) {}\n",
        "\n",
        "    __host__ __device__\n",
        "    float operator()(float x) const {\n",
        "        return (x - mean) * (x - mean);\n",
        "    }\n",
        "};\n",
        "\n",
        "// Função para calcular a variância com Fusion Kernel\n",
        "float calculate_variance_fusion(const thrust::device_vector<float>& d_vec, float mean) {\n",
        "    return thrust::transform_reduce(d_vec.begin(), d_vec.end(), variance_op(mean), 0.0f, thrust::plus<float>()) / d_vec.size();\n",
        "}\n",
        "\n",
        "// Função para calcular a média\n",
        "float calculate_mean(const thrust::device_vector<float>& d_vec) {\n",
        "    float sum = thrust::reduce(d_vec.begin(), d_vec.end(), 0.0f, thrust::plus<float>());\n",
        "    return sum / d_vec.size();\n",
        "}\n",
        "\n",
        "// Função para calcular a variância sem Fusion Kernel (em etapas separadas)\n",
        "float calculate_variance_separate(const thrust::device_vector<float>& d_vec, float mean) {\n",
        "    thrust::device_vector<float> temp(d_vec.size());\n",
        "    thrust::transform(d_vec.begin(), d_vec.end(), temp.begin(), square_diff(mean));\n",
        "\n",
        "    float variance = thrust::reduce(temp.begin(), temp.end(), 0.0f, thrust::plus<float>()) / d_vec.size();\n",
        "    return variance;\n",
        "}\n",
        "\n",
        "// Função para preencher o vetor com valores\n",
        "void fill_vector(thrust::device_vector<float>& d_vec) {\n",
        "    for (int i = 0; i < d_vec.size(); ++i) {\n",
        "        d_vec[i] = static_cast<float>(i + 1);  // Preenche com valores simples para teste\n",
        "    }\n",
        "}\n",
        "\n",
        "// Função para medir o tempo e exibir uso de memória\n",
        "void display_gpu_memory_info() {\n",
        "    size_t free_mem, total_mem;\n",
        "    cudaMemGetInfo(&free_mem, &total_mem);\n",
        "    std::cout << \"Memória total da GPU: \" << total_mem / (1024 * 1024) << \" MB\" << std::endl;\n",
        "    std::cout << \"Memória livre na GPU: \" << free_mem / (1024 * 1024) << \" MB\" << std::endl;\n",
        "    std::cout << \"Memória usada pela GPU: \" << (total_mem - free_mem) / (1024 * 1024) << \" MB\" << std::endl;\n",
        "}\n",
        "\n",
        "int main() {\n",
        "    const int N = 1 << 20;  // Tamanho do vetor (1 milhão de elementos)\n",
        "\n",
        "    // Gerar dados aleatórios\n",
        "    thrust::device_vector<float> d_vec(N);\n",
        "    fill_vector(d_vec);  // Preencher o vetor com valores\n",
        "\n",
        "    // Exibir informações iniciais da GPU\n",
        "    display_gpu_memory_info();\n",
        "\n",
        "    // Cálculo da média\n",
        "    auto start_mean = std::chrono::high_resolution_clock::now();\n",
        "    float mean = calculate_mean(d_vec);\n",
        "    auto end_mean = std::chrono::high_resolution_clock::now();\n",
        "    std::chrono::duration<double> mean_duration = end_mean - start_mean;\n",
        "\n",
        "    std::cout << \"Média calculada: \" << mean << std::endl;\n",
        "    std::cout << \"Tempo de cálculo da média: \" << mean_duration.count() << \" segundos\" << std::endl;\n",
        "\n",
        "    // Variância em etapas separadas\n",
        "    auto start_separate = std::chrono::high_resolution_clock::now();\n",
        "    float variance_separate = calculate_variance_separate(d_vec, mean);\n",
        "    auto end_separate = std::chrono::high_resolution_clock::now();\n",
        "    std::chrono::duration<double> separate_duration = end_separate - start_separate;\n",
        "\n",
        "    std::cout << \"Variância (etapas separadas): \" << variance_separate << std::endl;\n",
        "    std::cout << \"Tempo de cálculo da variância (etapas separadas): \" << separate_duration.count() << \" segundos\" << std::endl;\n",
        "\n",
        "    // Variância usando Fusion Kernel\n",
        "    auto start_fusion = std::chrono::high_resolution_clock::now();\n",
        "    float variance_fusion = calculate_variance_fusion(d_vec, mean);\n",
        "    auto end_fusion = std::chrono::high_resolution_clock::now();\n",
        "    std::chrono::duration<double> fusion_duration = end_fusion - start_fusion;\n",
        "\n",
        "    std::cout << \"Variância (Fusion Kernel): \" << variance_fusion << std::endl;\n",
        "    std::cout << \"Tempo de cálculo da variância (Fusion Kernel): \" << fusion_duration.count() << \" segundos\" << std::endl;\n",
        "\n",
        "    // Exibir informações finais da GPU\n",
        "    display_gpu_memory_info();\n",
        "\n",
        "    return 0;\n",
        "}\n"
      ],
      "metadata": {
        "colab": {
          "base_uri": "https://localhost:8080/"
        },
        "id": "v5cdAEQGRQVP",
        "outputId": "75d250d8-faae-483a-f481-d746a58e7a5b"
      },
      "execution_count": 31,
      "outputs": [
        {
          "output_type": "stream",
          "name": "stdout",
          "text": [
            "Overwriting variance_fusion.cu\n"
          ]
        }
      ]
    },
    {
      "cell_type": "code",
      "source": [
        "!nvcc -arch=sm_75 variance_fusion.cu -o variance_fusion"
      ],
      "metadata": {
        "id": "zkTNY-GHSJRv"
      },
      "execution_count": 32,
      "outputs": []
    },
    {
      "cell_type": "code",
      "source": [
        "!./variance_fusion"
      ],
      "metadata": {
        "colab": {
          "base_uri": "https://localhost:8080/"
        },
        "id": "qbgIAzL8SJla",
        "outputId": "2d6e17d7-41ef-4793-aa06-da5d122cd00e"
      },
      "execution_count": 33,
      "outputs": [
        {
          "output_type": "stream",
          "name": "stdout",
          "text": [
            "Memória total da GPU: 15102 MB\n",
            "Memória livre na GPU: 14993 MB\n",
            "Memória usada pela GPU: 109 MB\n",
            "Média calculada: 524288\n",
            "Tempo de cálculo da média: 0.000615758 segundos\n",
            "Variância (etapas separadas): 9.1626e+10\n",
            "Tempo de cálculo da variância (etapas separadas): 0.00065318 segundos\n",
            "Variância (Fusion Kernel): 9.1626e+10\n",
            "Tempo de cálculo da variância (Fusion Kernel): 0.00030065 segundos\n",
            "Memória total da GPU: 15102 MB\n",
            "Memória livre na GPU: 14993 MB\n",
            "Memória usada pela GPU: 109 MB\n"
          ]
        }
      ]
    },
    {
      "cell_type": "markdown",
      "source": [
        "# Interpretação dos Resultados da Atividade 12\n",
        "\n",
        "## Exercício 1 (SAXPY)\n",
        "A operação de SAXPY, que combina vetores utilizando uma constante multiplicadora, mostrou-se altamente eficiente ao ser executada na GPU. O tempo de execução foi extremamente curto (aproximadamente 3.57e-05 segundos), evidenciando a capacidade da GPU de lidar com operações paralelas em vetores. A memória usada pela GPU permaneceu constante durante a execução, indicando que o processamento não exigiu grande alocação adicional de memória.\n",
        "\n",
        "## Exercício 2 (Cálculo da Magnitude)\n",
        "Ao comparar a execução do cálculo da magnitude entre a GPU e a CPU, observou-se que o tempo de execução na GPU foi significativamente menor (0.000445143 segundos na GPU contra 0.0109731 segundos na CPU). Isso reflete o ganho de desempenho substancial ao utilizar o processamento paralelo na GPU para operações matemáticas intensivas. Além disso, o uso de memória da GPU foi consistente, sem grandes variações, o que demonstra eficiência no gerenciamento de recursos pela GPU.\n",
        "\n",
        "## Exercício 3 (Cálculo da Variância com Fusion Kernel)\n",
        "O uso do Fusion Kernel para calcular a variância permitiu combinar várias operações em um único kernel, resultando em um tempo de execução mais rápido (0.00030065 segundos) em comparação com a abordagem tradicional, que executa as operações em etapas separadas (0.00065318 segundos). Embora a diferença de tempo pareça pequena, em grandes volumes de dados e operações mais complexas, essa otimização pode gerar ganhos substanciais. O uso da memória da GPU manteve-se eficiente durante todo o processo.\n",
        "\n",
        "## Conclusão\n",
        "O uso de operações paralelas na GPU proporciona uma vantagem significativa em termos de tempo de execução, especialmente em tarefas matemáticas e de processamento de grandes vetores. A técnica de Fusion Kernel, em particular, mostrou-se eficaz na otimização de operações, reduzindo o tempo de execução ao combinar cálculos que seriam realizados separadamente. Além disso, o uso eficiente da memória da GPU durante todos os exercícios confirma a adequação dessas técnicas para o processamento em larga escala.\n"
      ],
      "metadata": {
        "id": "YjGqPtLMUBJb"
      }
    }
  ]
}