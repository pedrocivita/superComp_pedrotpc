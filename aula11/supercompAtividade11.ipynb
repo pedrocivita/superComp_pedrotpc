{
  "nbformat": 4,
  "nbformat_minor": 0,
  "metadata": {
    "colab": {
      "provenance": [],
      "gpuType": "T4",
      "authorship_tag": "ABX9TyPyjBxUNLXT3ioT3O0Y3CIM",
      "include_colab_link": true
    },
    "kernelspec": {
      "name": "python3",
      "display_name": "Python 3"
    },
    "language_info": {
      "name": "python"
    },
    "accelerator": "GPU"
  },
  "cells": [
    {
      "cell_type": "markdown",
      "metadata": {
        "id": "view-in-github",
        "colab_type": "text"
      },
      "source": [
        "<a href=\"https://colab.research.google.com/github/pedrocivita/superComp_pedrotpc/blob/main/aula11/supercompAtividade11.ipynb\" target=\"_parent\"><img src=\"https://colab.research.google.com/assets/colab-badge.svg\" alt=\"Open In Colab\"/></a>"
      ]
    },
    {
      "cell_type": "markdown",
      "source": [
        "# **Atividade 11 - Supercomputação - Pedro Civita**"
      ],
      "metadata": {
        "id": "C6FwRgkZ7Ug1"
      }
    },
    {
      "cell_type": "code",
      "execution_count": 1,
      "metadata": {
        "colab": {
          "base_uri": "https://localhost:8080/"
        },
        "id": "F0xHs7kbyXIb",
        "outputId": "3bdb321a-e0e6-40c1-9478-997be0cc977c"
      },
      "outputs": [
        {
          "output_type": "stream",
          "name": "stdout",
          "text": [
            "Wed Sep 18 17:47:25 2024       \n",
            "+---------------------------------------------------------------------------------------+\n",
            "| NVIDIA-SMI 535.104.05             Driver Version: 535.104.05   CUDA Version: 12.2     |\n",
            "|-----------------------------------------+----------------------+----------------------+\n",
            "| GPU  Name                 Persistence-M | Bus-Id        Disp.A | Volatile Uncorr. ECC |\n",
            "| Fan  Temp   Perf          Pwr:Usage/Cap |         Memory-Usage | GPU-Util  Compute M. |\n",
            "|                                         |                      |               MIG M. |\n",
            "|=========================================+======================+======================|\n",
            "|   0  Tesla T4                       Off | 00000000:00:04.0 Off |                    0 |\n",
            "| N/A   58C    P8              10W /  70W |      0MiB / 15360MiB |      0%      Default |\n",
            "|                                         |                      |                  N/A |\n",
            "+-----------------------------------------+----------------------+----------------------+\n",
            "                                                                                         \n",
            "+---------------------------------------------------------------------------------------+\n",
            "| Processes:                                                                            |\n",
            "|  GPU   GI   CI        PID   Type   Process name                            GPU Memory |\n",
            "|        ID   ID                                                             Usage      |\n",
            "|=======================================================================================|\n",
            "|  No running processes found                                                           |\n",
            "+---------------------------------------------------------------------------------------+\n"
          ]
        }
      ],
      "source": [
        "# No Colab, configure a GPU (T4 GPU, etc.) acessando \"Runtime\" -> \"Change Runtime Type\" -> GPU.\n",
        "!nvidia-smi  # Verifique se a GPU está ativada"
      ]
    },
    {
      "cell_type": "markdown",
      "source": [],
      "metadata": {
        "id": "oGn_q_3W7TiV"
      }
    },
    {
      "cell_type": "markdown",
      "source": [
        "## **Código - Aula 11**"
      ],
      "metadata": {
        "id": "TyDvEOoU3zNY"
      }
    },
    {
      "cell_type": "code",
      "source": [
        "%%writefile exercicio_variacao_diaria_memoria.cu\n",
        "\n",
        "#include <thrust/device_vector.h>\n",
        "#include <thrust/host_vector.h>\n",
        "#include <thrust/transform.h>\n",
        "#include <thrust/count.h>\n",
        "#include <thrust/replace.h>\n",
        "#include <thrust/reduce.h>\n",
        "#include <iostream>\n",
        "#include <fstream>\n",
        "#include <chrono>\n",
        "#include <cuda_runtime.h> // Inclui a biblioteca para consultas de memória da GPU\n",
        "\n",
        "// Função customizada para calcular a diferença entre preços diários\n",
        "struct diferenca_diaria {\n",
        "    __host__ __device__\n",
        "    double operator()(const double& preco_hoje, const double& preco_ontem) const {\n",
        "        return preco_hoje - preco_ontem;\n",
        "    }\n",
        "};\n",
        "\n",
        "// Função customizada para contar apenas valores positivos (aumento no preço)\n",
        "struct aumento_positivo {\n",
        "    __host__ __device__\n",
        "    bool operator()(const double& x) const {\n",
        "        return x > 0.0;\n",
        "    }\n",
        "};\n",
        "\n",
        "// Função para consultar o status da memória da GPU\n",
        "void checkGpuMemory() {\n",
        "    size_t freeMem, totalMem;\n",
        "    cudaMemGetInfo(&freeMem, &totalMem); // Obtém informações da memória da GPU\n",
        "\n",
        "    std::cout << \"Memória total da GPU: \" << totalMem / (1024 * 1024) << \" MB\" << std::endl;\n",
        "    std::cout << \"Memória livre da GPU: \" << freeMem / (1024 * 1024) << \" MB\" << std::endl;\n",
        "    std::cout << \"Memória usada pela GPU: \" << (totalMem - freeMem) / (1024 * 1024) << \" MB\" << std::endl;\n",
        "}\n",
        "\n",
        "int main() {\n",
        "    // Leitura do arquivo de dados\n",
        "    std::ifstream file(\"stocks-google.txt\");\n",
        "    if (!file) {\n",
        "        std::cerr << \"Erro ao abrir o arquivo stocks-google.txt\" << std::endl;\n",
        "        return 1;\n",
        "    }\n",
        "\n",
        "    // Lê todos os valores do arquivo para um vetor host\n",
        "    thrust::host_vector<double> host;\n",
        "    double value;\n",
        "    while (file >> value) {\n",
        "        host.push_back(value);\n",
        "    }\n",
        "\n",
        "    int n = host.size();\n",
        "    if (n < 2) {\n",
        "        std::cerr << \"O arquivo contém menos de dois valores!\" << std::endl;\n",
        "        return 1;\n",
        "    }\n",
        "\n",
        "    // Mostrar a memória inicial da GPU\n",
        "    checkGpuMemory();\n",
        "\n",
        "    // Transferir os dados para a GPU e medir o tempo de cópia\n",
        "    auto start_copy = std::chrono::high_resolution_clock::now();\n",
        "    thrust::device_vector<double> stocks = host;\n",
        "    auto end_copy = std::chrono::high_resolution_clock::now();\n",
        "    std::chrono::duration<double> duration_copy = end_copy - start_copy;\n",
        "    std::cout << \"Tempo de cópia para a GPU: \" << duration_copy.count() << \" segundos\" << std::endl;\n",
        "\n",
        "    // Mostrar a memória da GPU após a cópia dos dados\n",
        "    checkGpuMemory();\n",
        "\n",
        "    // Calcular a média total dos preços\n",
        "    double soma_precos = thrust::reduce(stocks.begin(), stocks.end(), 0.0);\n",
        "    double media_precos = soma_precos / n;\n",
        "    std::cout << \"Média dos preços das ações: \" << media_precos << std::endl;\n",
        "\n",
        "    // Vetor para armazenar a variação diária (um elemento a menos que stocks)\n",
        "    thrust::device_vector<double> ganho_diario(n - 1);\n",
        "\n",
        "    // Cálculo do ganho diário: ganho_diario[i] = stocks[i+1] - stocks[i]\n",
        "    auto start_calc = std::chrono::high_resolution_clock::now();\n",
        "    thrust::transform(stocks.begin() + 1, stocks.end(), stocks.begin(), ganho_diario.begin(), diferenca_diaria());\n",
        "    auto end_calc = std::chrono::high_resolution_clock::now();\n",
        "    std::chrono::duration<double> duration_calc = end_calc - start_calc;\n",
        "    std::cout << \"Tempo de cálculo da variação diária: \" << duration_calc.count() << \" segundos\" << std::endl;\n",
        "\n",
        "    // Contar os dias com aumento no preço (ganho positivo)\n",
        "    int num_dias_com_aumento = thrust::count_if(ganho_diario.begin(), ganho_diario.end(), aumento_positivo());\n",
        "    std::cout << \"Dias com aumento no preço: \" << num_dias_com_aumento << std::endl;\n",
        "\n",
        "    // Substituir os valores negativos no ganho_diario por zero\n",
        "    thrust::replace_if(ganho_diario.begin(), ganho_diario.end(), ganho_diario.begin(), thrust::placeholders::_1 < 0, 0.0);\n",
        "\n",
        "    // Calcular o total dos aumentos (soma dos ganhos positivos)\n",
        "    double soma_aumentos = thrust::reduce(ganho_diario.begin(), ganho_diario.end(), 0.0);\n",
        "\n",
        "    // Calcular a média dos aumentos (somente dos dias em que o preço subiu)\n",
        "    double media_aumentos = soma_aumentos / num_dias_com_aumento;\n",
        "    std::cout << \"Média dos aumentos nos dias com preço subindo: \" << media_aumentos << std::endl;\n",
        "\n",
        "    // Mostrar a memória final da GPU\n",
        "    checkGpuMemory();\n",
        "\n",
        "    return 0;\n",
        "}"
      ],
      "metadata": {
        "colab": {
          "base_uri": "https://localhost:8080/"
        },
        "id": "EuyrNRgv31KW",
        "outputId": "ed2ff6dc-179a-4ca3-8bdd-3aa4aff38319"
      },
      "execution_count": 19,
      "outputs": [
        {
          "output_type": "stream",
          "name": "stdout",
          "text": [
            "Writing exercicio_variacao_diaria_memoria.cu\n"
          ]
        }
      ]
    },
    {
      "cell_type": "code",
      "source": [
        "!nvcc -arch=sm_75 -std=c++14 exercicio_variacao_diaria_memoria.cu -o exercicio_variacao_diaria_memoria"
      ],
      "metadata": {
        "id": "lwi0T3u732Jw"
      },
      "execution_count": 20,
      "outputs": []
    },
    {
      "cell_type": "code",
      "source": [
        "!./exercicio_variacao_diaria_memoria < stocks-google.txt"
      ],
      "metadata": {
        "colab": {
          "base_uri": "https://localhost:8080/"
        },
        "id": "X7ld-Qab38yB",
        "outputId": "a53c964b-8409-49a9-c078-33ce30fcaba4"
      },
      "execution_count": 21,
      "outputs": [
        {
          "output_type": "stream",
          "name": "stdout",
          "text": [
            "Memória total da GPU: 15102 MB\n",
            "Memória livre da GPU: 14999 MB\n",
            "Memória usada pela GPU: 103 MB\n",
            "Tempo de cópia para a GPU: 0.000168332 segundos\n",
            "Memória total da GPU: 15102 MB\n",
            "Memória livre da GPU: 14997 MB\n",
            "Memória usada pela GPU: 105 MB\n",
            "Média dos preços das ações: 1580.08\n",
            "Tempo de cálculo da variação diária: 3.713e-05 segundos\n",
            "Dias com aumento no preço: 3056\n",
            "Média dos aumentos nos dias com preço subindo: 3.15251\n",
            "Memória total da GPU: 15102 MB\n",
            "Memória livre da GPU: 14995 MB\n",
            "Memória usada pela GPU: 107 MB\n"
          ]
        }
      ]
    },
    {
      "cell_type": "markdown",
      "source": [
        "O uso da GPU mostrou-se altamente eficiente para cálculos paralelos, com memória utilizada de apenas 107 MB e tempo de cópia de 0.000168332 segundos. O cálculo da variação diária foi feito em 3.713e-05 segundos, processando grandes volumes de dados rapidamente, como a média dos preços (1580.08) e a contagem de dias com aumento de preço (3056). O uso de iteradores dinâmicos e funções de transformação otimiza o processamento, destacando a vantagem da GPU para operações complexas e de larga escala."
      ],
      "metadata": {
        "id": "hjFZ54f26CiV"
      }
    }
  ]
}