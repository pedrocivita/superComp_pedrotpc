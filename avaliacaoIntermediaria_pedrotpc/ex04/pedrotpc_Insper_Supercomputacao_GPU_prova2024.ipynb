{
  "cells": [
    {
      "cell_type": "markdown",
      "metadata": {
        "id": "SQ2vjAmpAAqB"
      },
      "source": [
        "# Insper - Supercomputação - Prova Intermediária\n",
        "\n",
        "Questão sobre GPU / THRUST.\n",
        "\n",
        "\n",
        "**Questão 4: Normalização de Vetor com Thrust**\n",
        "\n",
        "Na análise de dados e no processamento de sinais, normalizar um vetor é uma operação comum que ajusta a escala dos elementos para que o vetor tenha uma norma unitária (ou seja, a soma dos quadrados dos elementos é igual a 1). Essa tarefa se torna computacionalmente intensiva para vetores de grande dimensão, fazendo com que a paralelização em GPU seja uma solução atrativa.\n",
        "\n",
        "**Objetivo**:\n",
        "\n",
        "Complemente o código abaixo usando a biblioteca Thrust para normalizar um vetor grande. O código inicial cria um vetor com valores aleatórios. Você deve implementar as etapas para:\n",
        "\n",
        "1. calcular a norma L2 do vetor,\n",
        "2. dividir cada elemento do vetor por essa norma e\n",
        "3. imprimir o resultado final.\n",
        "\n",
        "**Código Pré-Pronto**:\n",
        "\n",
        "Complete o código com a sua solução."
      ]
    },
    {
      "cell_type": "code",
      "source": [
        "%%writefile gpu.cu\n",
        "#include <thrust/device_vector.h>\n",
        "#include <thrust/host_vector.h>\n",
        "#include <thrust/transform.h>\n",
        "#include <thrust/transform_reduce.h>\n",
        "#include <thrust/functional.h>\n",
        "#include <thrust/random.h>\n",
        "#include <iostream>\n",
        "#include <cmath>\n",
        "#include <chrono>\n",
        "#include <cuda_runtime.h>\n",
        "\n",
        "// Functor para gerar valores aleatórios\n",
        "struct GerarAleatorios {\n",
        "    float min, max;\n",
        "\n",
        "    __host__ __device__\n",
        "    GerarAleatorios(float _min = 0.0f, float _max = 1.0f) : min(_min), max(_max) {}\n",
        "\n",
        "    __host__ __device__\n",
        "    float operator()(unsigned int n) const {\n",
        "        thrust::default_random_engine engine;\n",
        "        thrust::uniform_real_distribution<float> distrib(min, max);\n",
        "        engine.discard(n); // Garante a variação na sequência de números\n",
        "        return distrib(engine);\n",
        "    }\n",
        "};\n",
        "\n",
        "// Functor para calcular o quadrado dos elementos\n",
        "struct Quadrado {\n",
        "    __host__ __device__\n",
        "    float operator()(const float& x) const {\n",
        "        return x * x;\n",
        "    }\n",
        "};\n",
        "\n",
        "// Functor para normalizar o vetor\n",
        "struct Normalizar {\n",
        "    float norma;\n",
        "\n",
        "    __host__ __device__\n",
        "    Normalizar(float _norma) : norma(_norma) {}\n",
        "\n",
        "    __host__ __device__\n",
        "    float operator()(const float& x) const {\n",
        "        return x / norma;\n",
        "    }\n",
        "};\n",
        "\n",
        "int main() {\n",
        "    const int N = 1000000;\n",
        "    thrust::counting_iterator<unsigned int> contador(0);\n",
        "    thrust::host_vector<float> vetor_host(N);\n",
        "\n",
        "    // Preenchendo o vetor com valores aleatórios\n",
        "    thrust::transform(contador, contador + N, vetor_host.begin(), GerarAleatorios(1.f, 2.f));\n",
        "\n",
        "    // Verificar a memória antes da cópia para GPU\n",
        "    size_t memoriaLivreAntes, memoriaTotal;\n",
        "    cudaMemGetInfo(&memoriaLivreAntes, &memoriaTotal);\n",
        "\n",
        "    // Medir tempo para a cópia do host para a GPU\n",
        "    auto inicioCopia = std::chrono::high_resolution_clock::now();\n",
        "    thrust::device_vector<float> vetor_dispositivo = vetor_host;\n",
        "    auto fimCopia = std::chrono::high_resolution_clock::now();\n",
        "    std::chrono::duration<double> duracaoCopia = fimCopia - inicioCopia;\n",
        "\n",
        "    // Verificar memória após a cópia\n",
        "    size_t memoriaLivreAposCopia;\n",
        "    cudaMemGetInfo(&memoriaLivreAposCopia, &memoriaTotal);\n",
        "\n",
        "    // Calcular a norma L2 do vetor\n",
        "    auto inicioNorma = std::chrono::high_resolution_clock::now();\n",
        "    float norma = std::sqrt(thrust::transform_reduce(vetor_dispositivo.begin(), vetor_dispositivo.end(), Quadrado(), 0.0f, thrust::plus<float>()));\n",
        "    auto fimNorma = std::chrono::high_resolution_clock::now();\n",
        "    std::chrono::duration<double> duracaoNorma = fimNorma - inicioNorma;\n",
        "\n",
        "    std::cout << \"Norma calculada: \" << norma << std::endl;\n",
        "\n",
        "    // Normalizar o vetor\n",
        "    auto inicioNormalizar = std::chrono::high_resolution_clock::now();\n",
        "    thrust::transform(vetor_dispositivo.begin(), vetor_dispositivo.end(), vetor_dispositivo.begin(), Normalizar(norma));\n",
        "    auto fimNormalizar = std::chrono::high_resolution_clock::now();\n",
        "    std::chrono::duration<double> duracaoNormalizar = fimNormalizar - inicioNormalizar;\n",
        "\n",
        "    // Imprimir alguns elementos normalizados\n",
        "    for (int i = 0; i < 40; ++i) {\n",
        "        std::cout << \"Elemento normalizado \" << i << \": \" << vetor_dispositivo[i] << std::endl;\n",
        "    }\n",
        "\n",
        "    // Verificar memória após normalização\n",
        "    size_t memoriaLivreAposNormalizacao;\n",
        "    cudaMemGetInfo(&memoriaLivreAposNormalizacao, &memoriaTotal);\n",
        "\n",
        "    // Imprimir tempos de execução e uso de memória\n",
        "    std::cout << \"\\n--- Resultados ---\" << std::endl;\n",
        "    std::cout << \"Tempo de cópia para GPU: \" << duracaoCopia.count() << \" segundos\" << std::endl;\n",
        "    std::cout << \"Tempo de cálculo da norma: \" << duracaoNorma.count() << \" segundos\" << std::endl;\n",
        "    std::cout << \"Tempo de normalização: \" << duracaoNormalizar.count() << \" segundos\" << std::endl;\n",
        "    std::cout << \"Memória total da GPU: \" << memoriaTotal / (1024 * 1024) << \" MB\" << std::endl;\n",
        "    std::cout << \"Memória livre antes da cópia: \" << memoriaLivreAntes / (1024 * 1024) << \" MB\" << std::endl;\n",
        "    std::cout << \"Memória livre após a cópia: \" << memoriaLivreAposCopia / (1024 * 1024) << \" MB\" << std::endl;\n",
        "    std::cout << \"Memória livre após a normalização: \" << memoriaLivreAposNormalizacao / (1024 * 1024) << \" MB\" << std::endl;\n",
        "\n",
        "    return 0;\n",
        "}"
      ],
      "metadata": {
        "colab": {
          "base_uri": "https://localhost:8080/"
        },
        "id": "3e-yWwD8LITG",
        "outputId": "93817db7-9828-4be6-a41f-410d0d289429"
      },
      "execution_count": 4,
      "outputs": [
        {
          "output_type": "stream",
          "name": "stdout",
          "text": [
            "Overwriting gpu.cu\n"
          ]
        }
      ]
    },
    {
      "cell_type": "markdown",
      "source": [
        "Compilando o código"
      ],
      "metadata": {
        "id": "ArC24yXgKpon"
      }
    },
    {
      "cell_type": "code",
      "source": [
        "!nvcc -arch=sm_75 -std=c++14 gpu.cu -o gpu"
      ],
      "metadata": {
        "id": "8bwfjLxDLqoX"
      },
      "execution_count": 5,
      "outputs": []
    },
    {
      "cell_type": "markdown",
      "source": [
        "Exemplo de execução:"
      ],
      "metadata": {
        "id": "xZNFIBWgKs5B"
      }
    },
    {
      "cell_type": "code",
      "source": [
        "%%time\n",
        "!./gpu"
      ],
      "metadata": {
        "id": "IcrtojzSLs3e",
        "colab": {
          "base_uri": "https://localhost:8080/"
        },
        "outputId": "46420ce3-6552-45b6-f968-f4e4551b870f"
      },
      "execution_count": 6,
      "outputs": [
        {
          "output_type": "stream",
          "name": "stdout",
          "text": [
            "Norma calculada: 1527.27\n",
            "Elemento normalizado 0: 0.000654778\n",
            "Elemento normalizado 1: 0.000710439\n",
            "Elemento normalizado 2: 0.00104851\n",
            "Elemento normalizado 3: 0.00123856\n",
            "Elemento normalizado 4: 0.00128854\n",
            "Elemento normalizado 5: 0.000778965\n",
            "Elemento normalizado 6: 0.00099195\n",
            "Elemento normalizado 7: 0.000915364\n",
            "Elemento normalizado 8: 0.000826904\n",
            "Elemento normalizado 9: 0.00114159\n",
            "Elemento normalizado 10: 0.000713396\n",
            "Elemento normalizado 11: 0.00102169\n",
            "Elemento normalizado 12: 0.00103599\n",
            "Elemento normalizado 13: 0.00118484\n",
            "Elemento normalizado 14: 0.00104233\n",
            "Elemento normalizado 15: 0.000989813\n",
            "Elemento normalizado 16: 0.00122875\n",
            "Elemento normalizado 17: 0.00130631\n",
            "Elemento normalizado 18: 0.00113026\n",
            "Elemento normalizado 19: 0.00128766\n",
            "Elemento normalizado 20: 0.000849295\n",
            "Elemento normalizado 21: 0.000933725\n",
            "Elemento normalizado 22: 0.00124372\n",
            "Elemento normalizado 23: 0.00108232\n",
            "Elemento normalizado 24: 0.00124505\n",
            "Elemento normalizado 25: 0.00128434\n",
            "Elemento normalizado 26: 0.000762611\n",
            "Elemento normalizado 27: 0.00121654\n",
            "Elemento normalizado 28: 0.00124853\n",
            "Elemento normalizado 29: 0.00084728\n",
            "Elemento normalizado 30: 0.00126778\n",
            "Elemento normalizado 31: 0.000926257\n",
            "Elemento normalizado 32: 0.000856729\n",
            "Elemento normalizado 33: 0.000991896\n",
            "Elemento normalizado 34: 0.000913676\n",
            "Elemento normalizado 35: 0.00117188\n",
            "Elemento normalizado 36: 0.00110599\n",
            "Elemento normalizado 37: 0.00101113\n",
            "Elemento normalizado 38: 0.00104265\n",
            "Elemento normalizado 39: 0.000716068\n",
            "\n",
            "--- Resultados ---\n",
            "Tempo de cópia para GPU: 0.00113469 segundos\n",
            "Tempo de cálculo da norma: 0.000705254 segundos\n",
            "Tempo de normalização: 7.8561e-05 segundos\n",
            "Memória total da GPU: 15102 MB\n",
            "Memória livre antes da cópia: 14999 MB\n",
            "Memória livre após a cópia: 14995 MB\n",
            "Memória livre após a normalização: 14993 MB\n",
            "CPU times: user 9.39 ms, sys: 0 ns, total: 9.39 ms\n",
            "Wall time: 705 ms\n"
          ]
        }
      ]
    }
  ],
  "metadata": {
    "accelerator": "GPU",
    "colab": {
      "provenance": [],
      "gpuType": "T4"
    },
    "kernelspec": {
      "display_name": "Python 3",
      "name": "python3"
    },
    "language_info": {
      "name": "python"
    }
  },
  "nbformat": 4,
  "nbformat_minor": 0
}