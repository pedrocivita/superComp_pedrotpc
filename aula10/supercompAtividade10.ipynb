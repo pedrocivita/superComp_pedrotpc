{
  "nbformat": 4,
  "nbformat_minor": 0,
  "metadata": {
    "colab": {
      "provenance": [],
      "gpuType": "T4",
      "authorship_tag": "ABX9TyNas8IP1/tchyPDAlpvPQ1Q",
      "include_colab_link": true
    },
    "kernelspec": {
      "name": "python3",
      "display_name": "Python 3"
    },
    "language_info": {
      "name": "python"
    },
    "accelerator": "GPU"
  },
  "cells": [
    {
      "cell_type": "markdown",
      "metadata": {
        "id": "view-in-github",
        "colab_type": "text"
      },
      "source": [
        "<a href=\"https://colab.research.google.com/github/pedrocivita/superComp_pedrotpc/blob/main/aula10/supercompAtividade10.ipynb\" target=\"_parent\"><img src=\"https://colab.research.google.com/assets/colab-badge.svg\" alt=\"Open In Colab\"/></a>"
      ]
    },
    {
      "cell_type": "markdown",
      "source": [
        "# **Atividade 10 - Supercomputação - Pedro Civita**"
      ],
      "metadata": {
        "id": "C6FwRgkZ7Ug1"
      }
    },
    {
      "cell_type": "code",
      "execution_count": null,
      "metadata": {
        "colab": {
          "base_uri": "https://localhost:8080/"
        },
        "id": "F0xHs7kbyXIb",
        "outputId": "02656461-d41e-4272-f55d-4ac623ec72c2"
      },
      "outputs": [
        {
          "output_type": "stream",
          "name": "stdout",
          "text": [
            "Fri Sep 13 14:31:51 2024       \n",
            "+---------------------------------------------------------------------------------------+\n",
            "| NVIDIA-SMI 535.104.05             Driver Version: 535.104.05   CUDA Version: 12.2     |\n",
            "|-----------------------------------------+----------------------+----------------------+\n",
            "| GPU  Name                 Persistence-M | Bus-Id        Disp.A | Volatile Uncorr. ECC |\n",
            "| Fan  Temp   Perf          Pwr:Usage/Cap |         Memory-Usage | GPU-Util  Compute M. |\n",
            "|                                         |                      |               MIG M. |\n",
            "|=========================================+======================+======================|\n",
            "|   0  Tesla T4                       Off | 00000000:00:04.0 Off |                    0 |\n",
            "| N/A   45C    P8               9W /  70W |      0MiB / 15360MiB |      0%      Default |\n",
            "|                                         |                      |                  N/A |\n",
            "+-----------------------------------------+----------------------+----------------------+\n",
            "                                                                                         \n",
            "+---------------------------------------------------------------------------------------+\n",
            "| Processes:                                                                            |\n",
            "|  GPU   GI   CI        PID   Type   Process name                            GPU Memory |\n",
            "|        ID   ID                                                             Usage      |\n",
            "|=======================================================================================|\n",
            "|  No running processes found                                                           |\n",
            "+---------------------------------------------------------------------------------------+\n"
          ]
        }
      ],
      "source": [
        "!nvidia-smi"
      ]
    },
    {
      "cell_type": "markdown",
      "source": [],
      "metadata": {
        "id": "oGn_q_3W7TiV"
      }
    },
    {
      "cell_type": "markdown",
      "source": [
        "## **Exercício 1**"
      ],
      "metadata": {
        "id": "56GqIGWi1mhb"
      }
    },
    {
      "cell_type": "code",
      "source": [
        "%%writefile exercicio1.cu\n",
        "#include <thrust/device_vector.h>\n",
        "#include <thrust/host_vector.h>\n",
        "#include <iostream>\n",
        "#include <chrono>\n",
        "#include <fstream>\n",
        "\n",
        "int main() {\n",
        "    std::ifstream arquivo(\"stocks-google.txt\");\n",
        "    if (!arquivo.is_open()) {\n",
        "        std::cerr << \"Erro ao abrir o arquivo\" << std::endl;\n",
        "        return -1;\n",
        "    }\n",
        "\n",
        "    double preco;\n",
        "    thrust::host_vector<double> host;  // Vetor na CPU\n",
        "\n",
        "    // Leitura dos dados de preços do arquivo\n",
        "    while (arquivo >> preco) {\n",
        "        host.push_back(preco);\n",
        "    }\n",
        "\n",
        "    // Medição do tempo de cópia dos dados para a GPU\n",
        "    auto start = std::chrono::high_resolution_clock::now();\n",
        "    thrust::device_vector<double> dev(host);  // Copiando os dados para a GPU\n",
        "    auto end = std::chrono::high_resolution_clock::now();\n",
        "\n",
        "    std::chrono::duration<double> duration = end - start;\n",
        "    std::cout << \"Tempo de transferência para a GPU: \" << duration.count() << \" segundos\" << std::endl;\n",
        "\n",
        "    return 0;\n",
        "}\n"
      ],
      "metadata": {
        "colab": {
          "base_uri": "https://localhost:8080/"
        },
        "id": "KjwawGyr1fF0",
        "outputId": "4013352d-9b98-471b-c28b-1c3da970665d"
      },
      "execution_count": 8,
      "outputs": [
        {
          "output_type": "stream",
          "name": "stdout",
          "text": [
            "Writing exercicio1.cu\n"
          ]
        }
      ]
    },
    {
      "cell_type": "code",
      "source": [
        "!nvcc exercicio1.cu -o exercicio1"
      ],
      "metadata": {
        "id": "igA2-JPR3B3s"
      },
      "execution_count": 9,
      "outputs": []
    },
    {
      "cell_type": "code",
      "source": [
        "!./exercicio1"
      ],
      "metadata": {
        "colab": {
          "base_uri": "https://localhost:8080/"
        },
        "id": "21Ya2Jya3OGj",
        "outputId": "03eb4304-b7e8-46a8-bc5d-4ad1bbea0e5c"
      },
      "execution_count": 10,
      "outputs": [
        {
          "output_type": "stream",
          "name": "stdout",
          "text": [
            "Tempo de transferência para a GPU: 0.106408 segundos\n"
          ]
        }
      ]
    },
    {
      "cell_type": "markdown",
      "source": [
        "## **Exercício 2**"
      ],
      "metadata": {
        "id": "oL2vV-JA3dqx"
      }
    },
    {
      "cell_type": "code",
      "source": [
        "%%writefile exercicio2.cu\n",
        "#include <thrust/device_vector.h>\n",
        "#include <thrust/host_vector.h>\n",
        "#include <thrust/reduce.h>\n",
        "#include <thrust/extrema.h>\n",
        "#include <iostream>\n",
        "#include <fstream>\n",
        "#include <chrono>\n",
        "\n",
        "int main() {\n",
        "    // Lendo os dados do arquivo stocks-google.txt\n",
        "    std::ifstream arquivo(\"stocks-google.txt\");\n",
        "    if (!arquivo) {\n",
        "        std::cerr << \"Erro ao abrir o arquivo stocks-google.txt\" << std::endl;\n",
        "        return 1;\n",
        "    }\n",
        "\n",
        "    std::vector<double> precos;\n",
        "    double preco;\n",
        "\n",
        "    // Lê os preços do arquivo e armazena no vetor precos\n",
        "    while (arquivo >> preco) {\n",
        "        precos.push_back(preco);\n",
        "    }\n",
        "\n",
        "    arquivo.close();\n",
        "\n",
        "    // Transfere os dados para o host_vector e depois para o device_vector\n",
        "    thrust::host_vector<double> host(precos.begin(), precos.end());\n",
        "    thrust::device_vector<double> dev(host);\n",
        "\n",
        "    // Cálculo do preço médio dos últimos 10 anos (total)\n",
        "    int total_dias = dev.size();\n",
        "    double soma_total = thrust::reduce(dev.begin(), dev.end(), 0.0, thrust::plus<double>());\n",
        "    double media_total = soma_total / total_dias;\n",
        "    std::cout << \"Preço médio total: \" << media_total << std::endl;\n",
        "\n",
        "    // Cálculo do preço médio dos últimos 365 dias\n",
        "    int ultimos_365_dias = std::min(365, total_dias);  // Garante que há 365 dias ou menos\n",
        "    double soma_365 = thrust::reduce(dev.end() - ultimos_365_dias, dev.end(), 0.0, thrust::plus<double>());\n",
        "    double media_365 = soma_365 / ultimos_365_dias;\n",
        "    std::cout << \"Preço médio nos últimos 365 dias: \" << media_365 << std::endl;\n",
        "\n",
        "    // Encontrar o maior e o menor preço no período total\n",
        "    auto max_total = thrust::max_element(dev.begin(), dev.end());\n",
        "    auto min_total = thrust::min_element(dev.begin(), dev.end());\n",
        "    std::cout << \"Maior preço total: \" << *max_total << std::endl;\n",
        "    std::cout << \"Menor preço total: \" << *min_total << std::endl;\n",
        "\n",
        "    // Encontrar o maior e o menor preço nos últimos 365 dias\n",
        "    auto max_365 = thrust::max_element(dev.end() - ultimos_365_dias, dev.end());\n",
        "    auto min_365 = thrust::min_element(dev.end() - ultimos_365_dias, dev.end());\n",
        "    std::cout << \"Maior preço nos últimos 365 dias: \" << *max_365 << std::endl;\n",
        "    std::cout << \"Menor preço nos últimos 365 dias: \" << *min_365 << std::endl;\n",
        "\n",
        "    return 0;\n",
        "}"
      ],
      "metadata": {
        "colab": {
          "base_uri": "https://localhost:8080/"
        },
        "id": "c-GSLmuX3fXh",
        "outputId": "98d4e77f-ee5f-41c7-db57-42b4cc8927c0"
      },
      "execution_count": 22,
      "outputs": [
        {
          "output_type": "stream",
          "name": "stdout",
          "text": [
            "Overwriting exercicio2.cu\n"
          ]
        }
      ]
    },
    {
      "cell_type": "code",
      "source": [
        "!nvcc exercicio2.cu -o exercicio2"
      ],
      "metadata": {
        "id": "mrVrbSYO3gb6"
      },
      "execution_count": 23,
      "outputs": []
    },
    {
      "cell_type": "code",
      "source": [
        "!./exercicio2"
      ],
      "metadata": {
        "colab": {
          "base_uri": "https://localhost:8080/"
        },
        "id": "8owPz30r3kbr",
        "outputId": "df80c3df-3ec0-42a7-9797-8927273b6558"
      },
      "execution_count": 24,
      "outputs": [
        {
          "output_type": "stream",
          "name": "stdout",
          "text": [
            "Preço médio total: 1580.08\n",
            "Preço médio nos últimos 365 dias: 1615.81\n",
            "Maior preço total: 2200\n",
            "Menor preço total: 1015.24\n",
            "Maior preço nos últimos 365 dias: 2200\n",
            "Menor preço nos últimos 365 dias: 1060.5\n"
          ]
        }
      ]
    },
    {
      "cell_type": "markdown",
      "source": [
        "## **Exercício 3**"
      ],
      "metadata": {
        "id": "TyDvEOoU3zNY"
      }
    },
    {
      "cell_type": "code",
      "source": [
        "%%writefile exercicio3.cu\n",
        "#include <thrust/device_vector.h>\n",
        "#include <thrust/host_vector.h>\n",
        "#include <thrust/transform.h>\n",
        "#include <thrust/reduce.h>\n",
        "#include <iostream>\n",
        "#include <fstream>\n",
        "#include <sstream>  // Para ler os valores separados por vírgula\n",
        "#include <vector>   // Para armazenar os preços lidos\n",
        "\n",
        "int main() {\n",
        "    // Abrindo o arquivo stocks2.txt\n",
        "    std::ifstream arquivo(\"stocks2.txt\");\n",
        "    if (!arquivo) {\n",
        "        std::cerr << \"Erro ao abrir o arquivo stocks2.txt\" << std::endl;\n",
        "        return 1;\n",
        "    }\n",
        "\n",
        "    // Vetores para armazenar os preços da Apple e Microsoft\n",
        "    std::vector<double> precos_apple, precos_microsoft;\n",
        "\n",
        "    // Variáveis para armazenar os valores lidos\n",
        "    std::string linha;\n",
        "    double preco_apple, preco_microsoft;\n",
        "\n",
        "    // Lê os preços do arquivo e armazena em vetores separados\n",
        "    while (std::getline(arquivo, linha)) {\n",
        "        std::stringstream ss(linha);\n",
        "        std::string valor;\n",
        "\n",
        "        // Lendo o preço da Apple\n",
        "        std::getline(ss, valor, ',');\n",
        "        preco_apple = std::stod(valor);\n",
        "        precos_apple.push_back(preco_apple);\n",
        "\n",
        "        // Lendo o preço da Microsoft\n",
        "        std::getline(ss, valor);\n",
        "        preco_microsoft = std::stod(valor);\n",
        "        precos_microsoft.push_back(preco_microsoft);\n",
        "    }\n",
        "    arquivo.close();\n",
        "\n",
        "    // Transferindo os dados para host_vector e depois para device_vector\n",
        "    thrust::host_vector<double> host_apple(precos_apple.begin(), precos_apple.end());\n",
        "    thrust::host_vector<double> host_microsoft(precos_microsoft.begin(), precos_microsoft.end());\n",
        "\n",
        "    thrust::device_vector<double> dev_apple(host_apple);\n",
        "    thrust::device_vector<double> dev_microsoft(host_microsoft);\n",
        "\n",
        "    // Vetor para armazenar as diferenças ponto a ponto\n",
        "    thrust::device_vector<double> diferencas(dev_apple.size());\n",
        "\n",
        "    // Calcula a diferença ponto a ponto entre os preços da Apple e Microsoft\n",
        "    thrust::transform(dev_apple.begin(), dev_apple.end(), dev_microsoft.begin(), diferencas.begin(), thrust::minus<double>());\n",
        "\n",
        "    // Calcula a soma das diferenças\n",
        "    double soma_diferencas = thrust::reduce(diferencas.begin(), diferencas.end(), 0.0, thrust::plus<double>());\n",
        "\n",
        "    // Calcula a média das diferenças\n",
        "    double media_diferencas = soma_diferencas / diferencas.size();\n",
        "\n",
        "    std::cout << \"Média das diferenças (Apple - Microsoft): \" << media_diferencas << std::endl;\n",
        "\n",
        "    return 0;\n",
        "}\n"
      ],
      "metadata": {
        "colab": {
          "base_uri": "https://localhost:8080/"
        },
        "id": "EuyrNRgv31KW",
        "outputId": "19f92dfa-3bb4-46ef-b0a8-78be5a6ae3f8"
      },
      "execution_count": 25,
      "outputs": [
        {
          "output_type": "stream",
          "name": "stdout",
          "text": [
            "Overwriting exercicio3.cu\n"
          ]
        }
      ]
    },
    {
      "cell_type": "code",
      "source": [
        "!nvcc exercicio3.cu -o exercicio3"
      ],
      "metadata": {
        "id": "lwi0T3u732Jw"
      },
      "execution_count": 26,
      "outputs": []
    },
    {
      "cell_type": "code",
      "source": [
        "!./exercicio3"
      ],
      "metadata": {
        "colab": {
          "base_uri": "https://localhost:8080/"
        },
        "id": "X7ld-Qab38yB",
        "outputId": "3a83b603-6ca2-4e1e-a790-4032578da274"
      },
      "execution_count": 27,
      "outputs": [
        {
          "output_type": "stream",
          "name": "stdout",
          "text": [
            "Média das diferenças (Apple - Microsoft): -265.232\n"
          ]
        }
      ]
    },
    {
      "cell_type": "markdown",
      "source": [
        "A média negativa indica que, em média, os preços das ações da Microsoft foram mais altos que os da Apple ao longo do período."
      ],
      "metadata": {
        "id": "hjFZ54f26CiV"
      }
    }
  ]
}