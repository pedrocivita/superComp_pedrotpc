{
 "cells": [
  {
   "cell_type": "markdown",
   "metadata": {},
   "source": [
    "# Relatório - Aula 14\n",
    "\n",
    "## Pi Pelo Método de Monte Carlo\n",
    "\n",
    "---\n",
    "\n",
    "### Pedro Toledo Piza Civita - pedrotpc@al.insper.edu.br"
   ]
  },
  {
   "cell_type": "markdown",
   "metadata": {},
   "source": [
    "## Análise dos Resultados de Desempenho e Estimativa\n",
    "\n",
    "Ao rodar o algoritmo de Monte Carlo com \\( N = 10.000.000 \\), os resultados das três versões (sequencial, paralela inicial e paralela otimizada) foram os seguintes:"
   ]
  },
  {
   "cell_type": "markdown",
   "metadata": {},
   "source": [
    "### Parte 1: Implementação Sequencial\n",
    "- **Valor estimado de \\(\\pi\\):** 3.14132\n",
    "- **Tempo de execução:** 0.211699 segundos\n",
    "\n",
    "A versão sequencial é a mais rápida, o que é esperado, dado que não há overhead de gerenciamento de threads ou problemas de sincronização. A geração de números aleatórios ocorre de maneira consistente e eficiente, mantendo a precisão da estimativa."
   ]
  },
  {
   "cell_type": "markdown",
   "metadata": {},
   "source": [
    "### Parte 2: Primeira Tentativa de Paralelização\n",
    "- **Valor estimado de \\(\\pi\\):** 3.14257\n",
    "- **Tempo de execução:** 1.44928 segundos\n",
    "\n",
    "Surpreendentemente, a versão paralela inicial apresentou um tempo de execução significativamente maior do que a versão sequencial. Esse aumento no tempo de execução se deve ao fato de que, em C++, a geração de números aleatórios dentro de loops paralelos pode enfrentar problemas de eficiência. As seeds dos geradores de números aleatórios em threads paralelas podem acabar sincronizando os valores gerados ou criando conflitos, tornando o algoritmo menos eficiente e introduzindo overhead. Esse comportamento de sincronização pode ter aumentado o tempo de execução, mesmo com o benefício teórico do paralelismo."
   ]
  },
  {
   "cell_type": "markdown",
   "metadata": {},
   "source": [
    "### Parte 3: Paralelização Otimizada\n",
    "- **Valor estimado de \\(\\pi\\):** 3.14126\n",
    "- **Tempo de execução:** 0.470134 segundos\n",
    "\n",
    "Na terceira tentativa, a otimização foi feita fornecendo a cada thread seu próprio gerador de números aleatórios, com seeds diferentes para garantir independência entre os valores gerados. Isso removeu o problema de sincronização na geração de números aleatórios e reduziu o overhead. Como resultado, o tempo de execução foi significativamente melhor do que a primeira versão paralela, embora ainda mais lento que a versão sequencial."
   ]
  },
  {
   "cell_type": "markdown",
   "metadata": {},
   "source": [
    "### Observações\n",
    "A diferença de desempenho entre a versão sequencial e as versões paralelas reflete o desafio de gerenciar a geração de números aleatórios em um ambiente paralelo. O uso de seeds não independentes na primeira tentativa de paralelização introduziu conflitos e reduziu a eficiência. Ao corrigir isso com a atribuição de seeds exclusivos para cada thread, a paralelização ficou mais eficiente. No entanto, o overhead adicional de gerenciamento de threads ainda impacta o desempenho em comparação com a versão sequencial.\n",
    "\n",
    "Esses resultados mostram que, embora o paralelismo possa teoricamente aumentar a velocidade em problemas altamente independentes, a implementação prática requer cuidados na geração de números aleatórios e na gestão de threads para evitar que o desempenho seja reduzido por problemas de sincronização e overhead."
   ]
  }
 ],
 "metadata": {
  "kernelspec": {
   "display_name": "Python 3",
   "language": "python",
   "name": "python3"
  },
  "language_info": {
   "name": "python",
   "version": "3.12.4"
  }
 },
 "nbformat": 4,
 "nbformat_minor": 2
}
