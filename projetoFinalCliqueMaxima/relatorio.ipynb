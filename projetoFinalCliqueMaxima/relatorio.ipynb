{
 "cells": [
  {
   "cell_type": "markdown",
   "metadata": {},
   "source": [
    "# Projeto Final - Clique Máxima - Supercomputação\n",
    "## Pedro Toledo Piza Civita - pedrotpc@al.insper.edu.br"
   ]
  },
  {
   "cell_type": "code",
   "execution_count": null,
   "metadata": {},
   "outputs": [
    {
     "name": "stdout",
     "output_type": "stream",
     "text": [
      "Grafo densamente conectado gerado e salvo em 'data/grafo.txt'.\n"
     ]
    }
   ],
   "source": [
    "import networkx as nx\n",
    "import random\n",
    "\n",
    "# Parâmetros\n",
    "num_vertices = 100  # Número de vértices no grafo\n",
    "probabilidade_conexao = 0.7  # Probabilidade de haver uma aresta entre dois vértices (ajuste conforme necessário)\n",
    "\n",
    "# Crie um grafo aleatório densamente conectado\n",
    "grafo = nx.fast_gnp_random_graph(num_vertices, probabilidade_conexao)\n",
    "\n",
    "# Nome do arquivo de saída\n",
    "nome_arquivo = \"data/grafo.txt\"\n",
    "\n",
    "# Abra o arquivo para escrita\n",
    "with open(nome_arquivo, 'w') as arquivo:\n",
    "    # Escreva a quantidade de vértices e número de arestas na primeira linha\n",
    "    arquivo.write(f\"{num_vertices} {grafo.number_of_edges()}\\n\")\n",
    "\n",
    "    # Escreva as arestas no formato de lista de adjacência\n",
    "    for aresta in grafo.edges():\n",
    "        arquivo.write(f\"{aresta[0]+1} {aresta[1]+1}\\n\")  # +1 para ajustar os índices (começando em 1)\n",
    "\n",
    "print(f\"Grafo densamente conectado gerado e salvo em '{nome_arquivo}'.\")"
   ]
  },
  {
   "cell_type": "code",
   "execution_count": null,
   "metadata": {},
   "outputs": [],
   "source": [
    "import networkx as nx\n",
    "\n",
    "# Nome do arquivo de entrada\n",
    "nome_arquivo = \"output/seu_arquivo.txt\"\n",
    "\n",
    "# Abrir o arquivo e pular a primeira linha\n",
    "with open(nome_arquivo, 'r') as arquivo:\n",
    "    next(arquivo)  # Pula a primeira linha\n",
    "\n",
    "    # Lê o grafo a partir das linhas restantes\n",
    "    G = nx.parse_adjlist(arquivo)\n",
    "\n",
    "# Encontrar todas as cliques maximais\n",
    "cliques_maximais = list(nx.find_cliques(G))\n",
    "\n",
    "# Encontrar a clique máxima (a maior)\n",
    "clique_maxima = max(cliques_maximais, key=len)\n",
    "\n",
    "print(\"Cliques maximais encontradas:\")\n",
    "for clique in cliques_maximais:\n",
    "    print(clique)\n",
    "\n",
    "print(\"Clique máxima encontrada:\", clique_maxima)"
   ]
  }
 ],
 "metadata": {
  "kernelspec": {
   "display_name": "Python 3",
   "language": "python",
   "name": "python3"
  },
  "language_info": {
   "codemirror_mode": {
    "name": "ipython",
    "version": 3
   },
   "file_extension": ".py",
   "mimetype": "text/x-python",
   "name": "python",
   "nbconvert_exporter": "python",
   "pygments_lexer": "ipython3",
   "version": "3.12.4"
  }
 },
 "nbformat": 4,
 "nbformat_minor": 2
}
